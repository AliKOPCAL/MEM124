{
 "cells": [
  {
   "cell_type": "code",
   "execution_count": null,
   "metadata": {},
   "outputs": [],
   "source": [
    "number=int(input(\"Choose a number 1 or 2 or 3:\"))\n",
    "if number>3:\n",
    "    print(\"TRY AGAIN!\")\n",
    "elif number==1:\n",
    "    print(\" Welcome to Program/Hypotenuse Calculate\")\n",
    "    print(\"Hypotenus Formula is c**2=a**2+b**2\")\n",
    "    a=int(input(\"Enter first edge of the triangle:\"))\n",
    "    b=int(input(\"Enter second edge of the triangle:\"))\n",
    "    c=(a**2+b**2)**0.5\n",
    "    print(\"\\nHypotenus:\",c)\n",
    "elif number==2:\n",
    "    print(\"Welcome to program/Ranking\")\n",
    "    ALİ=int(input(\"Enter your number:\"))\n",
    "    num=0\n",
    "    while num<ALİ:\n",
    "        num=num+1\n",
    "        print(num)\n",
    "elif number==3:\n",
    "    print(\"Welcome to program/Arithmetic Mean of Six Number\")\n",
    "    num1=int(input(\"Enter 1st number:\"))\n",
    "    num2=int(input(\"Enter 2nd number:\"))\n",
    "    num3=int(input(\"Enter 3rd number:\"))\n",
    "    num4=int(input(\"Enter 4th number:\"))\n",
    "    num5=int(input(\"Enter 5th number:\"))\n",
    "    num6=int(input(\"Enter 6th number:\"))\n",
    "    print(\"Your num set respectively:\"),(num1+num2+num3+num4+num5+num6)\n",
    "    result_of_arithmetic=(num1+num2+num3+num4+num5+num6)/6\n",
    "    print(\"Your arithmetic mean is:\",result_of_arithmetic)\n",
    "            \n",
    "    \n",
    "            "
   ]
  },
  {
   "cell_type": "code",
   "execution_count": null,
   "metadata": {},
   "outputs": [],
   "source": []
  }
 ],
 "metadata": {
  "kernelspec": {
   "display_name": "Python 3",
   "language": "python",
   "name": "python3"
  },
  "language_info": {
   "codemirror_mode": {
    "name": "ipython",
    "version": 3
   },
   "file_extension": ".py",
   "mimetype": "text/x-python",
   "name": "python",
   "nbconvert_exporter": "python",
   "pygments_lexer": "ipython3",
   "version": "3.7.4"
  }
 },
 "nbformat": 4,
 "nbformat_minor": 2
}
