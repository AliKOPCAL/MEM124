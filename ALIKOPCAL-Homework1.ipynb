{
 "cells": [
  {
   "cell_type": "code",
   "execution_count": null,
   "metadata": {},
   "outputs": [
    {
     "name": "stdout",
     "output_type": "stream",
     "text": [
      "IKINCI DERECEDEN DENKLEMLER\n",
      "Denklem ax**2+b*x+c\n"
     ]
    }
   ],
   "source": [
    "print(\"IKINCI DERECEDEN DENKLEMLER\")\n",
    "print(\"Denklem ax**2+b*x+c\")\n",
    "a=int(input(\"a değeri giriniz:\"))\n",
    "b=int(input(\"b değeri giriniz:\"))\n",
    "c=int(input(\"c değeri giriniz:\"))\n",
    "delta=b**2-4*a*c\n",
    "X1=(-b-delta**0.5)/(2*a)\n",
    "X2=(-b+delta**0.5)/(2*a)\n",
    "if delta>0:\n",
    "    print(\"Gerçek iki kökü var.\")\n",
    "    print(\"Denklemin birinci kökü:{}\\n Denklemin İkinci kökü:{}\\n\".format(X1,X2))  \n",
    "if delta<0:\n",
    "    print(\"Reel kök yoktur.\")\n",
    "    \n",
    "if delta==0:\n",
    "    print(\"Çakışık iki kökü vardır.\")\n",
    "    print(\"Denklemin birinci kökü:{}\\n Denklemin ikinci kökü:{}\\n\".format(X1,X2))"
   ]
  },
  {
   "cell_type": "code",
   "execution_count": null,
   "metadata": {},
   "outputs": [],
   "source": []
  }
 ],
 "metadata": {
  "kernelspec": {
   "display_name": "Python 3",
   "language": "python",
   "name": "python3"
  },
  "language_info": {
   "codemirror_mode": {
    "name": "ipython",
    "version": 3
   },
   "file_extension": ".py",
   "mimetype": "text/x-python",
   "name": "python",
   "nbconvert_exporter": "python",
   "pygments_lexer": "ipython3",
   "version": "3.7.4"
  }
 },
 "nbformat": 4,
 "nbformat_minor": 2
}
