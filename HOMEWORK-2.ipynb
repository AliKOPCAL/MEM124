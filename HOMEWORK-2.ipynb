{
 "cells": [
  {
   "cell_type": "code",
   "execution_count": 2,
   "metadata": {},
   "outputs": [
    {
     "name": "stdout",
     "output_type": "stream",
     "text": [
      "EXAMPLE 1\n",
      "[1 2 3]\n"
     ]
    }
   ],
   "source": [
    "print('EXAMPLE 1')\n",
    "import scipy as sc\n",
    "import numpy as np\n",
    "array1=np.array(([1,2,3]))\n",
    "print(array1)"
   ]
  },
  {
   "cell_type": "code",
   "execution_count": 19,
   "metadata": {
    "scrolled": true
   },
   "outputs": [
    {
     "name": "stdout",
     "output_type": "stream",
     "text": [
      "EXAMPLE 2\n",
      "[ 0.   2.5  5.   7.5 10. ] \n",
      "\n",
      "[0.  0.5 1. ] \n",
      "\n"
     ]
    }
   ],
   "source": [
    "print('EXAMPLE 2')\n",
    "array2=np.linspace(0,10,5)\n",
    "print(array2,'\\n')\n",
    "array22=np.linspace(0,1,3)\n",
    "print(array22,'\\n')"
   ]
  },
  {
   "cell_type": "code",
   "execution_count": 20,
   "metadata": {},
   "outputs": [
    {
     "name": "stdout",
     "output_type": "stream",
     "text": [
      "EXAPMLE 3\n",
      "[0 1 2 3 4 5 6 7 8 9] \n",
      "\n",
      "[0.  0.5 1.  1.5 2.  2.5 3.  3.5 4.  4.5] \n",
      "\n",
      "[0 1 2 3 4] \n",
      "\n",
      "[0 1 2 3 4 5 6 7 8 9] \n",
      "\n"
     ]
    }
   ],
   "source": [
    "print('EXAPMLE 3')\n",
    "array3=np.arange(0,10,1)\n",
    "print(array3,'\\n')\n",
    "array4=np.arange(0,5,0.5)\n",
    "print(array4,'\\n')\n",
    "array44=np.arange(5)\n",
    "print(array44,'\\n')\n",
    "print(np.arange(10),'\\n')"
   ]
  },
  {
   "cell_type": "code",
   "execution_count": 21,
   "metadata": {},
   "outputs": [
    {
     "name": "stdout",
     "output_type": "stream",
     "text": [
      "EXAMPLE 4\n",
      "[0. 0. 0. 0. 0.] \n",
      "\n",
      "[1. 1. 1.] \n",
      "\n"
     ]
    }
   ],
   "source": [
    "print('EXAMPLE 4')\n",
    "array5=np.zeros(5)\n",
    "print(array5,'\\n')\n",
    "array6=np.ones(3)\n",
    "print(array6,'\\n')"
   ]
  },
  {
   "cell_type": "code",
   "execution_count": 22,
   "metadata": {},
   "outputs": [
    {
     "name": "stdout",
     "output_type": "stream",
     "text": [
      "EXAMPLE 5\n",
      "[-2. -1.  0.  1.  2.  3.] \n",
      "\n",
      "[0. 1. 2. 3. 4. 5.] \n",
      "\n",
      "[-3. -2. -1.  0.  1.  2.] \n",
      "\n",
      "[-6. -3.  0.  3.  6.  9.] \n",
      "\n",
      "[-1.  -0.5  0.   0.5  1.   1.5] \n",
      "\n",
      "[16.  1.  0.  1. 16. 81.] \n",
      "\n",
      "[ 0.  5. 10. 15. 20. 25.] \n",
      "\n",
      "[-0.90929743 -0.84147098  0.          0.84147098  0.90929743  0.14112001] \n",
      "\n",
      "[-0.41614684  0.54030231  1.          0.54030231 -0.41614684 -0.9899925 ] \n",
      "\n"
     ]
    }
   ],
   "source": [
    "print('EXAMPLE 5')\n",
    "array7=np.linspace(-2,3,6)\n",
    "print(array7,'\\n')\n",
    "print(array7+2,'\\n')\n",
    "print(array7-1,'\\n')\n",
    "print(array7*3,'\\n')\n",
    "print(array7/2,'\\n')\n",
    "print(array7**4,'\\n')\n",
    "print((array7+2)*5,'\\n')\n",
    "print(np.sin(array7),'\\n')\n",
    "print(np.cos(array7),'\\n')"
   ]
  },
  {
   "cell_type": "code",
   "execution_count": 23,
   "metadata": {},
   "outputs": [
    {
     "name": "stdout",
     "output_type": "stream",
     "text": [
      "EXAMPLE 6\n",
      "[ 60  80 100] \n",
      "\n",
      "[40 40 40] \n",
      "\n",
      "[-40 -40 -40] \n",
      "\n",
      "[ 500 1200 2100] \n",
      "\n",
      "[5.         3.         2.33333333] \n",
      "\n"
     ]
    }
   ],
   "source": [
    "print('EXAMPLE 6')\n",
    "array8=np.array([10,20,30])\n",
    "array9=np.array([50,60,70])\n",
    "result1=array8+array9\n",
    "print(result1,'\\n')\n",
    "print(array9-array8,'\\n')\n",
    "print(array8-array9,'\\n')\n",
    "print(array8*array9,'\\n')\n",
    "print(array9/array8,'\\n')"
   ]
  },
  {
   "cell_type": "code",
   "execution_count": 3,
   "metadata": {},
   "outputs": [
    {
     "name": "stdout",
     "output_type": "stream",
     "text": [
      "EXAMPLE 7\n",
      "[[1 2 3]\n",
      " [4 5 6]] \n",
      "\n",
      "[[1 1 1]\n",
      " [2 2 2]\n",
      " [3 3 3]] \n",
      "\n"
     ]
    }
   ],
   "source": [
    "print('EXAMPLE 7')\n",
    "array10=np.array ([[1,2,3],[4,5,6]])\n",
    "print(array10,'\\n')\n",
    "array11=np.array([[1,1,1],[2,2,2],[3,3,3]])\n",
    "print(array11,'\\n')\n",
    "                  "
   ]
  },
  {
   "cell_type": "code",
   "execution_count": 4,
   "metadata": {},
   "outputs": [
    {
     "name": "stdout",
     "output_type": "stream",
     "text": [
      "EXAMPLE 8\n",
      "[[[1. 0. 0.]\n",
      "  [0. 1. 0.]\n",
      "  [0. 0. 1.]]] \n",
      "\n"
     ]
    }
   ],
   "source": [
    "print('EXAMPLE 8')\n",
    "array12=np.array([np.eye(3)])\n",
    "print(array12,'\\n')"
   ]
  },
  {
   "cell_type": "code",
   "execution_count": 73,
   "metadata": {},
   "outputs": [
    {
     "ename": "SyntaxError",
     "evalue": "unexpected EOF while parsing (<ipython-input-73-e95290c8ad62>, line 8)",
     "output_type": "error",
     "traceback": [
      "\u001b[1;36m  File \u001b[1;32m\"<ipython-input-73-e95290c8ad62>\"\u001b[1;36m, line \u001b[1;32m8\u001b[0m\n\u001b[1;33m    print(np.reshape(array13,[2,5],'\\n')\u001b[0m\n\u001b[1;37m                                        ^\u001b[0m\n\u001b[1;31mSyntaxError\u001b[0m\u001b[1;31m:\u001b[0m unexpected EOF while parsing\n"
     ]
    }
   ],
   "source": [
    "print('EXAMPLE 9')\n",
    "array13=np.arange(8)\n",
    "print(array13,'\\n')\n",
    "array14=np.reshape(array13,(2,4))\n",
    "print(array14,'\\n')\n",
    "print(np.reshape(arange13,(4,2)),'\\n')\n",
    "print(np.reshape(np.arange(8),(4,2)),'\\n')\n",
    "print(np.reshape(array13,[2,5],'\\n')"
   ]
  },
  {
   "cell_type": "code",
   "execution_count": 36,
   "metadata": {
    "scrolled": true
   },
   "outputs": [
    {
     "name": "stdout",
     "output_type": "stream",
     "text": [
      "EXAMPLE 10\n",
      "[[1 4 5]\n",
      " [2 3 6]] \n",
      "\n",
      "[[3 6 7]\n",
      " [4 5 8]] \n",
      "\n",
      "[[-2  1  2]\n",
      " [-1  0  3]] \n",
      "\n",
      "[[ 3 12 15]\n",
      " [ 6  9 18]] \n",
      "\n",
      "[[2.         0.03125    0.016     ]\n",
      " [0.25       0.07407407 0.00925926]] \n",
      "\n",
      "[[ 0.54030231 -0.65364362  0.28366219]\n",
      " [-0.41614684 -0.9899925   0.96017029]] \n",
      "\n"
     ]
    }
   ],
   "source": [
    "print(\"EXAMPLE 10\")\n",
    "array15=np.array([[1,4,5],[2,3,6]])\n",
    "print(array15,'\\n')\n",
    "print(array15+2,'\\n')\n",
    "print(array15-3,'\\n')\n",
    "print(array15*3,'\\n')\n",
    "print(2/array15**3,'\\n')\n",
    "print(np.cos(array15),'\\n')"
   ]
  },
  {
   "cell_type": "code",
   "execution_count": 33,
   "metadata": {},
   "outputs": [
    {
     "name": "stdout",
     "output_type": "stream",
     "text": [
      "EXAMPLE 11\n"
     ]
    },
    {
     "ename": "NameError",
     "evalue": "name 'np' is not defined",
     "output_type": "error",
     "traceback": [
      "\u001b[1;31m---------------------------------------------------------------------------\u001b[0m",
      "\u001b[1;31mNameError\u001b[0m                                 Traceback (most recent call last)",
      "\u001b[1;32m<ipython-input-33-187401ce605f>\u001b[0m in \u001b[0;36m<module>\u001b[1;34m\u001b[0m\n\u001b[0;32m      1\u001b[0m \u001b[0mprint\u001b[0m\u001b[1;33m(\u001b[0m\u001b[1;34m\"EXAMPLE 11\"\u001b[0m\u001b[1;33m)\u001b[0m\u001b[1;33m\u001b[0m\u001b[1;33m\u001b[0m\u001b[0m\n\u001b[1;32m----> 2\u001b[1;33m \u001b[0marray16\u001b[0m\u001b[1;33m=\u001b[0m\u001b[0mnp\u001b[0m\u001b[1;33m.\u001b[0m\u001b[0marray\u001b[0m\u001b[1;33m(\u001b[0m\u001b[1;33m[\u001b[0m\u001b[1;33m[\u001b[0m\u001b[1;36m1.\u001b[0m\u001b[1;33m,\u001b[0m\u001b[1;36m2.\u001b[0m\u001b[1;33m,\u001b[0m\u001b[1;36m3.\u001b[0m\u001b[1;33m]\u001b[0m\u001b[1;33m,\u001b[0m\u001b[1;33m[\u001b[0m\u001b[1;36m4.\u001b[0m\u001b[1;33m,\u001b[0m\u001b[1;36m5.\u001b[0m\u001b[1;33m,\u001b[0m\u001b[1;36m6.\u001b[0m\u001b[1;33m]\u001b[0m\u001b[1;33m]\u001b[0m\u001b[1;33m)\u001b[0m\u001b[1;33m\u001b[0m\u001b[1;33m\u001b[0m\u001b[0m\n\u001b[0m\u001b[0;32m      3\u001b[0m \u001b[0mprint\u001b[0m\u001b[1;33m(\u001b[0m\u001b[0marray16\u001b[0m\u001b[1;33m,\u001b[0m\u001b[1;34m'\\n'\u001b[0m\u001b[1;33m)\u001b[0m\u001b[1;33m\u001b[0m\u001b[1;33m\u001b[0m\u001b[0m\n\u001b[0;32m      4\u001b[0m \u001b[0marray17\u001b[0m\u001b[1;33m=\u001b[0m\u001b[0mnp\u001b[0m\u001b[1;33m.\u001b[0m\u001b[0marray\u001b[0m\u001b[1;33m(\u001b[0m\u001b[1;33m[\u001b[0m\u001b[1;33m[\u001b[0m\u001b[1;33m-\u001b[0m\u001b[1;36m1.\u001b[0m\u001b[1;33m,\u001b[0m\u001b[1;33m-\u001b[0m\u001b[1;36m2.\u001b[0m\u001b[1;33m,\u001b[0m\u001b[1;33m-\u001b[0m\u001b[1;36m3.\u001b[0m\u001b[1;33m]\u001b[0m\u001b[1;33m,\u001b[0m\u001b[1;33m[\u001b[0m\u001b[1;33m-\u001b[0m\u001b[1;36m4.\u001b[0m\u001b[1;33m,\u001b[0m\u001b[1;33m-\u001b[0m\u001b[1;36m5.\u001b[0m\u001b[1;33m,\u001b[0m\u001b[1;33m-\u001b[0m\u001b[1;36m6.\u001b[0m\u001b[1;33m]\u001b[0m\u001b[1;33m]\u001b[0m\u001b[1;33m)\u001b[0m\u001b[1;33m\u001b[0m\u001b[1;33m\u001b[0m\u001b[0m\n\u001b[0;32m      5\u001b[0m \u001b[0mprint\u001b[0m\u001b[1;33m(\u001b[0m\u001b[0marray17\u001b[0m\u001b[1;33m,\u001b[0m\u001b[1;34m'\\n'\u001b[0m\u001b[1;33m)\u001b[0m\u001b[1;33m\u001b[0m\u001b[1;33m\u001b[0m\u001b[0m\n",
      "\u001b[1;31mNameError\u001b[0m: name 'np' is not defined"
     ]
    }
   ],
   "source": [
    "print(\"EXAMPLE 11\")\n",
    "array16=np.array([[1.,2.,3.],[4.,5.,6.]])\n",
    "print(array16,'\\n')\n",
    "array17=np.array([[-1.,-2.,-3.],[-4.,-5.,-6.]])\n",
    "print(array17,'\\n')\n",
    "array16*array17\n",
    "print(np.dot(array16,array17),'\\n')"
   ]
  },
  {
   "cell_type": "code",
   "execution_count": 50,
   "metadata": {},
   "outputs": [
    {
     "name": "stdout",
     "output_type": "stream",
     "text": [
      "EXAMPLE 12\n"
     ]
    },
    {
     "ename": "NameError",
     "evalue": "name 'sc' is not defined",
     "output_type": "error",
     "traceback": [
      "\u001b[1;31m---------------------------------------------------------------------------\u001b[0m",
      "\u001b[1;31mNameError\u001b[0m                                 Traceback (most recent call last)",
      "\u001b[1;32m<ipython-input-50-7cb148d57d29>\u001b[0m in \u001b[0;36m<module>\u001b[1;34m\u001b[0m\n\u001b[0;32m      1\u001b[0m \u001b[0mprint\u001b[0m\u001b[1;33m(\u001b[0m\u001b[1;34m\"EXAMPLE 12\"\u001b[0m\u001b[1;33m)\u001b[0m\u001b[1;33m\u001b[0m\u001b[1;33m\u001b[0m\u001b[0m\n\u001b[1;32m----> 2\u001b[1;33m \u001b[0marray18\u001b[0m\u001b[1;33m=\u001b[0m\u001b[0msc\u001b[0m\u001b[1;33m.\u001b[0m\u001b[0mrand\u001b[0m\u001b[1;33m(\u001b[0m\u001b[1;36m8\u001b[0m\u001b[1;33m)\u001b[0m\u001b[1;33m\u001b[0m\u001b[1;33m\u001b[0m\u001b[0m\n\u001b[0m\u001b[0;32m      3\u001b[0m \u001b[0mprint\u001b[0m\u001b[1;33m(\u001b[0m\u001b[0mnp\u001b[0m\u001b[1;33m.\u001b[0m\u001b[0marray\u001b[0m\u001b[1;33m(\u001b[0m\u001b[0mnp\u001b[0m\u001b[1;33m.\u001b[0m\u001b[0mreshape\u001b[0m\u001b[1;33m(\u001b[0m\u001b[1;33m(\u001b[0m\u001b[0marray18\u001b[0m\u001b[1;33m)\u001b[0m\u001b[1;33m,\u001b[0m\u001b[1;33m(\u001b[0m\u001b[1;36m2\u001b[0m\u001b[1;33m,\u001b[0m\u001b[1;36m4\u001b[0m\u001b[1;33m)\u001b[0m\u001b[1;33m)\u001b[0m\u001b[1;33m)\u001b[0m\u001b[1;33m,\u001b[0m\u001b[1;34m'\\n'\u001b[0m\u001b[1;33m)\u001b[0m\u001b[1;33m\u001b[0m\u001b[1;33m\u001b[0m\u001b[0m\n\u001b[0;32m      4\u001b[0m \u001b[0marray19\u001b[0m\u001b[1;33m=\u001b[0m\u001b[0mprint\u001b[0m\u001b[1;33m(\u001b[0m\u001b[0mnp\u001b[0m\u001b[1;33m.\u001b[0m\u001b[0marray\u001b[0m\u001b[1;33m(\u001b[0m\u001b[0mnp\u001b[0m\u001b[1;33m.\u001b[0m\u001b[0mreshape\u001b[0m\u001b[1;33m(\u001b[0m\u001b[1;33m(\u001b[0m\u001b[0msc\u001b[0m\u001b[1;33m.\u001b[0m\u001b[0mrand\u001b[0m\u001b[1;33m(\u001b[0m\u001b[1;36m8\u001b[0m\u001b[1;33m)\u001b[0m\u001b[1;33m)\u001b[0m\u001b[1;33m,\u001b[0m\u001b[1;33m(\u001b[0m\u001b[1;36m2\u001b[0m\u001b[1;33m,\u001b[0m\u001b[1;36m4\u001b[0m\u001b[1;33m)\u001b[0m\u001b[1;33m)\u001b[0m\u001b[1;33m)\u001b[0m\u001b[1;33m,\u001b[0m\u001b[1;34m'\\n'\u001b[0m\u001b[1;33m)\u001b[0m\u001b[1;33m\u001b[0m\u001b[1;33m\u001b[0m\u001b[0m\n",
      "\u001b[1;31mNameError\u001b[0m: name 'sc' is not defined"
     ]
    }
   ],
   "source": [
    "print(\"EXAMPLE 12\")\n",
    "array18=sc.rand(8)\n",
    "print(np.array(np.reshape((array18),(2,4))),'\\n')\n",
    "array19=print(np.array(np.reshape((sc.rand(8)),(2,4))),'\\n')"
   ]
  },
  {
   "cell_type": "code",
   "execution_count": 45,
   "metadata": {},
   "outputs": [
    {
     "name": "stdout",
     "output_type": "stream",
     "text": [
      "EXAMPLE 13\n",
      "[[1 2 3]\n",
      " [4 5 6]\n",
      " [7 8 9]] \n",
      "\n",
      "[1 2 3] \n",
      "\n",
      "[4 5 6] \n",
      "\n",
      "[7 8 9] \n",
      "\n"
     ]
    }
   ],
   "source": [
    "print(\"EXAMPLE 13\")\n",
    "array20=np.array([[1,2,3],[4,5,6],[7,8,9]])\n",
    "print(array20,'\\n')\n",
    "print(array20[0,:],'\\n')\n",
    "print(array20[1,:],'\\n')\n",
    "print(array20[2,:],'\\n')"
   ]
  },
  {
   "cell_type": "code",
   "execution_count": 46,
   "metadata": {},
   "outputs": [
    {
     "name": "stdout",
     "output_type": "stream",
     "text": [
      "[1 4 7] \n",
      "\n",
      "[2 5 8] \n",
      "\n",
      "[3 6 9] \n",
      "\n"
     ]
    }
   ],
   "source": [
    "print(array20[:,0],'\\n')\n",
    "print(array20[:,1],'\\n')\n",
    "print(array20[:,2],'\\n')"
   ]
  },
  {
   "cell_type": "code",
   "execution_count": 47,
   "metadata": {},
   "outputs": [
    {
     "name": "stdout",
     "output_type": "stream",
     "text": [
      "[ 1  8 21] \n",
      "\n",
      "[1 2 3] \n",
      "\n"
     ]
    }
   ],
   "source": [
    "print(array20[0,:]*array20[:,0],'\\n')\n",
    "print(array20[0,0]*array20[0,:],'\\n')\n"
   ]
  },
  {
   "cell_type": "code",
   "execution_count": 57,
   "metadata": {},
   "outputs": [
    {
     "name": "stdout",
     "output_type": "stream",
     "text": [
      "30 \n",
      "\n"
     ]
    }
   ],
   "source": [
    "print(np.dot((array20[0,:]),(array20[:,0])),'\\n')\n"
   ]
  },
  {
   "cell_type": "code",
   "execution_count": 60,
   "metadata": {},
   "outputs": [
    {
     "name": "stdout",
     "output_type": "stream",
     "text": [
      "[30] \n",
      "\n"
     ]
    }
   ],
   "source": [
    "print(np.dot((array20[0,:]),np.array(np.reshape(array20[:,0],(3,1)))),'\\n')"
   ]
  },
  {
   "cell_type": "code",
   "execution_count": 61,
   "metadata": {},
   "outputs": [
    {
     "name": "stdout",
     "output_type": "stream",
     "text": [
      "[[1 2 3]\n",
      " [4 5 6]\n",
      " [7 8 9]] \n",
      "\n",
      "[[ 1  4  9]\n",
      " [16 25 36]\n",
      " [49 64 81]] \n",
      "\n",
      "[[ 30  36  42]\n",
      " [ 66  81  96]\n",
      " [102 126 150]] \n",
      "\n"
     ]
    }
   ],
   "source": [
    "print(array20,'\\n')\n",
    "print(array20*array20,'\\n')\n",
    "print(np.dot(array20,array20),'\\n')"
   ]
  },
  {
   "cell_type": "code",
   "execution_count": 63,
   "metadata": {},
   "outputs": [
    {
     "name": "stdout",
     "output_type": "stream",
     "text": [
      "[[0 1 2]\n",
      " [3 4 5]\n",
      " [6 7 8]] \n",
      "\n",
      "[[0]\n",
      " [1]\n",
      " [2]] \n",
      "\n",
      "[[ 5]\n",
      " [14]\n",
      " [23]] \n",
      "\n",
      "[[ 0  0  0]\n",
      " [ 3  4  5]\n",
      " [12 14 16]] \n",
      "\n"
     ]
    }
   ],
   "source": [
    "array21=np.arange(9).reshape((3,3))\n",
    "print(array21,'\\n')\n",
    "array22=np.transpose(np.arange(3).reshape(1,3))\n",
    "print(array22,'\\n')\n",
    "print(np.dot(array21,array22),'\\n')\n",
    "print(array21*array22,'\\n')"
   ]
  },
  {
   "cell_type": "code",
   "execution_count": null,
   "metadata": {},
   "outputs": [],
   "source": []
  }
 ],
 "metadata": {
  "kernelspec": {
   "display_name": "Python 3",
   "language": "python",
   "name": "python3"
  },
  "language_info": {
   "codemirror_mode": {
    "name": "ipython",
    "version": 3
   },
   "file_extension": ".py",
   "mimetype": "text/x-python",
   "name": "python",
   "nbconvert_exporter": "python",
   "pygments_lexer": "ipython3",
   "version": "3.7.4"
  }
 },
 "nbformat": 4,
 "nbformat_minor": 2
}
